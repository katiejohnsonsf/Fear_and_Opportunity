{
 "cells": [
  {
   "cell_type": "code",
   "execution_count": 4,
   "metadata": {},
   "outputs": [],
   "source": [
    "import pandas as pd\n",
    "import numpy as np\n",
    "import pyreadstat\n",
    "import matplotlib.pyplot as plt\n",
    "%matplotlib inline\n",
    "import random\n",
    "from scipy import stats\n",
    "plt.style.use('ggplot')"
   ]
  },
  {
   "cell_type": "code",
   "execution_count": 66,
   "metadata": {},
   "outputs": [],
   "source": [
    "#read in data 2007\n",
    "df_2007, meta = pyreadstat.read_sav(\"data/GEM 2007 APS Global Individual Level Data.sav\")\n"
   ]
  },
  {
   "cell_type": "code",
   "execution_count": 49,
   "metadata": {},
   "outputs": [],
   "source": [
    "#read in data 2008\n",
    "df_2008, meta = pyreadstat.read_sav(\"data/GEM 2008 APS Global Individual Level Data.sav\")\n"
   ]
  },
  {
   "cell_type": "code",
   "execution_count": 50,
   "metadata": {},
   "outputs": [],
   "source": [
    "\n",
    "##read in data 2009\n",
    "df_09, meta = pyreadstat.read_sav(\"data/1365453033GEM_2009_APS_Global_-_Individual_Level_Data_Innovation_22Mar2012.sav\")\n"
   ]
  },
  {
   "cell_type": "code",
   "execution_count": 51,
   "metadata": {},
   "outputs": [],
   "source": [
    "#read in data 2010\n",
    "df_10, meta = pyreadstat.read_sav(\"data/GEM 2010 APS Global Individual Level Data.sav\")\n"
   ]
  },
  {
   "cell_type": "code",
   "execution_count": 57,
   "metadata": {},
   "outputs": [],
   "source": [
    "\n",
    "#read in data 2011\n",
    "df_11, meta = pyreadstat.read_sav(\"data/GEM 2011 APS Global Individual Level Data_1Feb2015.sav\")\n"
   ]
  },
  {
   "cell_type": "code",
   "execution_count": 79,
   "metadata": {},
   "outputs": [],
   "source": [
    "\n",
    "#read in data 2015\n",
    "df_15, meta = pyreadstat.read_sav(\"data/GEM 2015 APS Global Individial Data.sav\")\n"
   ]
  },
  {
   "cell_type": "code",
   "execution_count": 6,
   "metadata": {},
   "outputs": [],
   "source": [
    "\n",
    "#read in most recent data (2016)\n",
    "df_16, meta = pyreadstat.read_sav(\"data/GEM 2016 APS Global - Individual Level Data.sav\")"
   ]
  },
  {
   "cell_type": "code",
   "execution_count": 7,
   "metadata": {},
   "outputs": [
    {
     "data": {
      "text/html": [
       "<div>\n",
       "<style scoped>\n",
       "    .dataframe tbody tr th:only-of-type {\n",
       "        vertical-align: middle;\n",
       "    }\n",
       "\n",
       "    .dataframe tbody tr th {\n",
       "        vertical-align: top;\n",
       "    }\n",
       "\n",
       "    .dataframe thead th {\n",
       "        text-align: right;\n",
       "    }\n",
       "</style>\n",
       "<table border=\"1\" class=\"dataframe\">\n",
       "  <thead>\n",
       "    <tr style=\"text-align: right;\">\n",
       "      <th></th>\n",
       "      <th>country</th>\n",
       "      <th>ctryalp</th>\n",
       "      <th>CAT_GCR1</th>\n",
       "      <th>CAT_GCR2</th>\n",
       "      <th>yrsurv</th>\n",
       "      <th>setid</th>\n",
       "      <th>ID</th>\n",
       "      <th>weight</th>\n",
       "      <th>WEIGHT_L</th>\n",
       "      <th>WEIGHT_A</th>\n",
       "      <th>...</th>\n",
       "      <th>TEAEXPST</th>\n",
       "      <th>TEAEXPWK</th>\n",
       "      <th>IPACT_ALL</th>\n",
       "      <th>IPACT_EMP</th>\n",
       "      <th>IPACTNOW_ALL</th>\n",
       "      <th>IPACTNOW_EMP</th>\n",
       "      <th>IPACTLD_ALL</th>\n",
       "      <th>IPACTLD_EMP</th>\n",
       "      <th>IPACTLDNOW_ALL</th>\n",
       "      <th>IPACTLDNOW_EMP</th>\n",
       "    </tr>\n",
       "  </thead>\n",
       "  <tbody>\n",
       "    <tr>\n",
       "      <th>0</th>\n",
       "      <td>1.0</td>\n",
       "      <td>US</td>\n",
       "      <td>5.0</td>\n",
       "      <td>3.0</td>\n",
       "      <td>2016.0</td>\n",
       "      <td>1.161000e+09</td>\n",
       "      <td>1000043.0</td>\n",
       "      <td>0.554987</td>\n",
       "      <td>0.529262</td>\n",
       "      <td>0.554987</td>\n",
       "      <td>...</td>\n",
       "      <td>NaN</td>\n",
       "      <td>NaN</td>\n",
       "      <td>0.0</td>\n",
       "      <td>0.0</td>\n",
       "      <td>0.0</td>\n",
       "      <td>0.0</td>\n",
       "      <td>0.0</td>\n",
       "      <td>0.0</td>\n",
       "      <td>0.0</td>\n",
       "      <td>0.0</td>\n",
       "    </tr>\n",
       "    <tr>\n",
       "      <th>1</th>\n",
       "      <td>1.0</td>\n",
       "      <td>US</td>\n",
       "      <td>5.0</td>\n",
       "      <td>3.0</td>\n",
       "      <td>2016.0</td>\n",
       "      <td>1.161000e+09</td>\n",
       "      <td>1000104.0</td>\n",
       "      <td>1.132633</td>\n",
       "      <td>1.080133</td>\n",
       "      <td>1.132633</td>\n",
       "      <td>...</td>\n",
       "      <td>NaN</td>\n",
       "      <td>NaN</td>\n",
       "      <td>0.0</td>\n",
       "      <td>0.0</td>\n",
       "      <td>0.0</td>\n",
       "      <td>0.0</td>\n",
       "      <td>0.0</td>\n",
       "      <td>0.0</td>\n",
       "      <td>0.0</td>\n",
       "      <td>0.0</td>\n",
       "    </tr>\n",
       "    <tr>\n",
       "      <th>2</th>\n",
       "      <td>1.0</td>\n",
       "      <td>US</td>\n",
       "      <td>5.0</td>\n",
       "      <td>3.0</td>\n",
       "      <td>2016.0</td>\n",
       "      <td>1.161000e+09</td>\n",
       "      <td>1000111.0</td>\n",
       "      <td>1.216468</td>\n",
       "      <td>1.160082</td>\n",
       "      <td>1.216468</td>\n",
       "      <td>...</td>\n",
       "      <td>NaN</td>\n",
       "      <td>NaN</td>\n",
       "      <td>0.0</td>\n",
       "      <td>NaN</td>\n",
       "      <td>0.0</td>\n",
       "      <td>NaN</td>\n",
       "      <td>0.0</td>\n",
       "      <td>NaN</td>\n",
       "      <td>0.0</td>\n",
       "      <td>NaN</td>\n",
       "    </tr>\n",
       "    <tr>\n",
       "      <th>3</th>\n",
       "      <td>1.0</td>\n",
       "      <td>US</td>\n",
       "      <td>5.0</td>\n",
       "      <td>3.0</td>\n",
       "      <td>2016.0</td>\n",
       "      <td>1.161000e+09</td>\n",
       "      <td>1000385.0</td>\n",
       "      <td>0.658882</td>\n",
       "      <td>NaN</td>\n",
       "      <td>0.658882</td>\n",
       "      <td>...</td>\n",
       "      <td>NaN</td>\n",
       "      <td>NaN</td>\n",
       "      <td>0.0</td>\n",
       "      <td>NaN</td>\n",
       "      <td>0.0</td>\n",
       "      <td>NaN</td>\n",
       "      <td>0.0</td>\n",
       "      <td>NaN</td>\n",
       "      <td>0.0</td>\n",
       "      <td>NaN</td>\n",
       "    </tr>\n",
       "    <tr>\n",
       "      <th>4</th>\n",
       "      <td>1.0</td>\n",
       "      <td>US</td>\n",
       "      <td>5.0</td>\n",
       "      <td>3.0</td>\n",
       "      <td>2016.0</td>\n",
       "      <td>1.161000e+09</td>\n",
       "      <td>1000442.0</td>\n",
       "      <td>0.749167</td>\n",
       "      <td>NaN</td>\n",
       "      <td>0.749167</td>\n",
       "      <td>...</td>\n",
       "      <td>NaN</td>\n",
       "      <td>NaN</td>\n",
       "      <td>0.0</td>\n",
       "      <td>NaN</td>\n",
       "      <td>0.0</td>\n",
       "      <td>NaN</td>\n",
       "      <td>0.0</td>\n",
       "      <td>NaN</td>\n",
       "      <td>0.0</td>\n",
       "      <td>NaN</td>\n",
       "    </tr>\n",
       "  </tbody>\n",
       "</table>\n",
       "<p>5 rows × 258 columns</p>\n",
       "</div>"
      ],
      "text/plain": [
       "   country ctryalp  CAT_GCR1  CAT_GCR2  yrsurv         setid         ID  \\\n",
       "0      1.0      US       5.0       3.0  2016.0  1.161000e+09  1000043.0   \n",
       "1      1.0      US       5.0       3.0  2016.0  1.161000e+09  1000104.0   \n",
       "2      1.0      US       5.0       3.0  2016.0  1.161000e+09  1000111.0   \n",
       "3      1.0      US       5.0       3.0  2016.0  1.161000e+09  1000385.0   \n",
       "4      1.0      US       5.0       3.0  2016.0  1.161000e+09  1000442.0   \n",
       "\n",
       "     weight  WEIGHT_L  WEIGHT_A  ...  TEAEXPST  TEAEXPWK  IPACT_ALL  \\\n",
       "0  0.554987  0.529262  0.554987  ...       NaN       NaN        0.0   \n",
       "1  1.132633  1.080133  1.132633  ...       NaN       NaN        0.0   \n",
       "2  1.216468  1.160082  1.216468  ...       NaN       NaN        0.0   \n",
       "3  0.658882       NaN  0.658882  ...       NaN       NaN        0.0   \n",
       "4  0.749167       NaN  0.749167  ...       NaN       NaN        0.0   \n",
       "\n",
       "   IPACT_EMP  IPACTNOW_ALL  IPACTNOW_EMP  IPACTLD_ALL  IPACTLD_EMP  \\\n",
       "0        0.0           0.0           0.0          0.0          0.0   \n",
       "1        0.0           0.0           0.0          0.0          0.0   \n",
       "2        NaN           0.0           NaN          0.0          NaN   \n",
       "3        NaN           0.0           NaN          0.0          NaN   \n",
       "4        NaN           0.0           NaN          0.0          NaN   \n",
       "\n",
       "   IPACTLDNOW_ALL  IPACTLDNOW_EMP  \n",
       "0             0.0             0.0  \n",
       "1             0.0             0.0  \n",
       "2             0.0             NaN  \n",
       "3             0.0             NaN  \n",
       "4             0.0             NaN  \n",
       "\n",
       "[5 rows x 258 columns]"
      ]
     },
     "execution_count": 7,
     "metadata": {},
     "output_type": "execute_result"
    }
   ],
   "source": [
    "df_16.head()"
   ]
  },
  {
   "cell_type": "code",
   "execution_count": 8,
   "metadata": {},
   "outputs": [],
   "source": [
    "# saving for a later df ['UNEDUC']['GEMHHINC']['gender']['age']['BUSOWNER']\n",
    "# df_2016.loc[df_2016['ctryalp'] == 'UK']\n",
    "\n",
    "#create a data frame with country, perception of opportunity and fear of failure for analysis\n",
    "\n",
    "df_FFPO = df_16[['ctryalp', 'opport', 'fearfail', 'gender', 'age', 'UNEDUC', 'knowent', 'suskill', 'GEMHHINC']]\n",
    "\n"
   ]
  },
  {
   "cell_type": "code",
   "execution_count": 9,
   "metadata": {},
   "outputs": [
    {
     "name": "stdout",
     "output_type": "stream",
     "text": [
      "<class 'pandas.core.frame.DataFrame'>\n",
      "RangeIndex: 194824 entries, 0 to 194823\n",
      "Data columns (total 9 columns):\n",
      " #   Column    Non-Null Count   Dtype  \n",
      "---  ------    --------------   -----  \n",
      " 0   ctryalp   194824 non-null  object \n",
      " 1   opport    163167 non-null  float64\n",
      " 2   fearfail  187295 non-null  float64\n",
      " 3   gender    194820 non-null  float64\n",
      " 4   age       192573 non-null  float64\n",
      " 5   UNEDUC    192559 non-null  float64\n",
      " 6   knowent   191994 non-null  float64\n",
      " 7   suskill   187698 non-null  float64\n",
      " 8   GEMHHINC  159673 non-null  float64\n",
      "dtypes: float64(8), object(1)\n",
      "memory usage: 13.4+ MB\n"
     ]
    }
   ],
   "source": [
    "# verify pre-cleaning number of rows\n",
    "df_FFPO.info()"
   ]
  },
  {
   "cell_type": "code",
   "execution_count": 10,
   "metadata": {},
   "outputs": [],
   "source": [
    "# remove rows containing NaN values\n",
    "\n",
    "df_FFPO = df_FFPO.dropna()"
   ]
  },
  {
   "cell_type": "code",
   "execution_count": 11,
   "metadata": {},
   "outputs": [
    {
     "name": "stdout",
     "output_type": "stream",
     "text": [
      "<class 'pandas.core.frame.DataFrame'>\n",
      "Int64Index: 126608 entries, 0 to 194823\n",
      "Data columns (total 9 columns):\n",
      " #   Column    Non-Null Count   Dtype  \n",
      "---  ------    --------------   -----  \n",
      " 0   ctryalp   126608 non-null  object \n",
      " 1   opport    126608 non-null  float64\n",
      " 2   fearfail  126608 non-null  float64\n",
      " 3   gender    126608 non-null  float64\n",
      " 4   age       126608 non-null  float64\n",
      " 5   UNEDUC    126608 non-null  float64\n",
      " 6   knowent   126608 non-null  float64\n",
      " 7   suskill   126608 non-null  float64\n",
      " 8   GEMHHINC  126608 non-null  float64\n",
      "dtypes: float64(8), object(1)\n",
      "memory usage: 9.7+ MB\n"
     ]
    }
   ],
   "source": [
    "# verify number of rows after NaN rows have been removed\n",
    "\n",
    "df_FFPO.info()"
   ]
  },
  {
   "cell_type": "code",
   "execution_count": 12,
   "metadata": {},
   "outputs": [
    {
     "data": {
      "text/html": [
       "<div>\n",
       "<style scoped>\n",
       "    .dataframe tbody tr th:only-of-type {\n",
       "        vertical-align: middle;\n",
       "    }\n",
       "\n",
       "    .dataframe tbody tr th {\n",
       "        vertical-align: top;\n",
       "    }\n",
       "\n",
       "    .dataframe thead th {\n",
       "        text-align: right;\n",
       "    }\n",
       "</style>\n",
       "<table border=\"1\" class=\"dataframe\">\n",
       "  <thead>\n",
       "    <tr style=\"text-align: right;\">\n",
       "      <th></th>\n",
       "      <th>ctryalp</th>\n",
       "      <th>opport</th>\n",
       "      <th>fearfail</th>\n",
       "      <th>gender</th>\n",
       "      <th>age</th>\n",
       "      <th>UNEDUC</th>\n",
       "      <th>knowent</th>\n",
       "      <th>suskill</th>\n",
       "      <th>GEMHHINC</th>\n",
       "    </tr>\n",
       "  </thead>\n",
       "  <tbody>\n",
       "    <tr>\n",
       "      <th>0</th>\n",
       "      <td>US</td>\n",
       "      <td>0.0</td>\n",
       "      <td>1.0</td>\n",
       "      <td>2.0</td>\n",
       "      <td>63.0</td>\n",
       "      <td>3.0</td>\n",
       "      <td>0.0</td>\n",
       "      <td>1.0</td>\n",
       "      <td>33.0</td>\n",
       "    </tr>\n",
       "    <tr>\n",
       "      <th>1</th>\n",
       "      <td>US</td>\n",
       "      <td>0.0</td>\n",
       "      <td>1.0</td>\n",
       "      <td>1.0</td>\n",
       "      <td>52.0</td>\n",
       "      <td>4.0</td>\n",
       "      <td>0.0</td>\n",
       "      <td>1.0</td>\n",
       "      <td>68100.0</td>\n",
       "    </tr>\n",
       "    <tr>\n",
       "      <th>2</th>\n",
       "      <td>US</td>\n",
       "      <td>1.0</td>\n",
       "      <td>0.0</td>\n",
       "      <td>2.0</td>\n",
       "      <td>64.0</td>\n",
       "      <td>5.0</td>\n",
       "      <td>0.0</td>\n",
       "      <td>0.0</td>\n",
       "      <td>3467.0</td>\n",
       "    </tr>\n",
       "    <tr>\n",
       "      <th>3</th>\n",
       "      <td>US</td>\n",
       "      <td>0.0</td>\n",
       "      <td>0.0</td>\n",
       "      <td>2.0</td>\n",
       "      <td>70.0</td>\n",
       "      <td>4.0</td>\n",
       "      <td>0.0</td>\n",
       "      <td>0.0</td>\n",
       "      <td>3467.0</td>\n",
       "    </tr>\n",
       "    <tr>\n",
       "      <th>5</th>\n",
       "      <td>US</td>\n",
       "      <td>0.0</td>\n",
       "      <td>1.0</td>\n",
       "      <td>1.0</td>\n",
       "      <td>57.0</td>\n",
       "      <td>5.0</td>\n",
       "      <td>0.0</td>\n",
       "      <td>1.0</td>\n",
       "      <td>33.0</td>\n",
       "    </tr>\n",
       "  </tbody>\n",
       "</table>\n",
       "</div>"
      ],
      "text/plain": [
       "  ctryalp  opport  fearfail  gender   age  UNEDUC  knowent  suskill  GEMHHINC\n",
       "0      US     0.0       1.0     2.0  63.0     3.0      0.0      1.0      33.0\n",
       "1      US     0.0       1.0     1.0  52.0     4.0      0.0      1.0   68100.0\n",
       "2      US     1.0       0.0     2.0  64.0     5.0      0.0      0.0    3467.0\n",
       "3      US     0.0       0.0     2.0  70.0     4.0      0.0      0.0    3467.0\n",
       "5      US     0.0       1.0     1.0  57.0     5.0      0.0      1.0      33.0"
      ]
     },
     "execution_count": 12,
     "metadata": {},
     "output_type": "execute_result"
    }
   ],
   "source": [
    "df_FFPO.head()"
   ]
  },
  {
   "cell_type": "code",
   "execution_count": 13,
   "metadata": {},
   "outputs": [
    {
     "data": {
      "text/html": [
       "<div>\n",
       "<style scoped>\n",
       "    .dataframe tbody tr th:only-of-type {\n",
       "        vertical-align: middle;\n",
       "    }\n",
       "\n",
       "    .dataframe tbody tr th {\n",
       "        vertical-align: top;\n",
       "    }\n",
       "\n",
       "    .dataframe thead th {\n",
       "        text-align: right;\n",
       "    }\n",
       "</style>\n",
       "<table border=\"1\" class=\"dataframe\">\n",
       "  <thead>\n",
       "    <tr style=\"text-align: right;\">\n",
       "      <th>fearfail</th>\n",
       "      <th>0.0</th>\n",
       "      <th>1.0</th>\n",
       "    </tr>\n",
       "    <tr>\n",
       "      <th>opport</th>\n",
       "      <th></th>\n",
       "      <th></th>\n",
       "    </tr>\n",
       "  </thead>\n",
       "  <tbody>\n",
       "    <tr>\n",
       "      <th>0.0</th>\n",
       "      <td>40614</td>\n",
       "      <td>32725</td>\n",
       "    </tr>\n",
       "    <tr>\n",
       "      <th>1.0</th>\n",
       "      <td>34400</td>\n",
       "      <td>18869</td>\n",
       "    </tr>\n",
       "  </tbody>\n",
       "</table>\n",
       "</div>"
      ],
      "text/plain": [
       "fearfail    0.0    1.0\n",
       "opport                \n",
       "0.0       40614  32725\n",
       "1.0       34400  18869"
      ]
     },
     "execution_count": 13,
     "metadata": {},
     "output_type": "execute_result"
    }
   ],
   "source": [
    "# create contingency table\n",
    "\n",
    "conting_t = pd.crosstab(df_FFPO['opport'], df_FFPO['fearfail'])\n",
    "conting_t"
   ]
  },
  {
   "cell_type": "code",
   "execution_count": 14,
   "metadata": {},
   "outputs": [
    {
     "data": {
      "text/plain": [
       "(0.6807482775774157, 1.9851627013826236e-238)"
      ]
     },
     "execution_count": 14,
     "metadata": {},
     "output_type": "execute_result"
    }
   ],
   "source": [
    "# calculate the p-value of Fisher's exact test\n",
    "\n",
    "pvalue = stats.fisher_exact(conting_t)\n",
    "pvalue"
   ]
  },
  {
   "cell_type": "code",
   "execution_count": 41,
   "metadata": {},
   "outputs": [
    {
     "data": {
      "image/png": "[encoded data removed]",
      "text/plain": [
       "<Figure size 864x576 with 1 Axes>"
      ]
     },
     "metadata": {},
     "output_type": "display_data"
    }
   ],
   "source": [
    "# create a histogram for fear of failure vs opportunity \n",
    "\n",
    "labels = ['See Opportunity', 'Does Not See Opportunity']\n",
    "\n",
    "yes_fear_bar = df_FFPO[df_FFPO['fearfail'] == 1.0]['opport'].value_counts()\n",
    "no_fear_bar = df_FFPO[df_FFPO['fearfail'] == 0.0]['opport'].value_counts()\n",
    "\n",
    "\n",
    "x = np.arange(len(labels))\n",
    "\n",
    "width = 0.20\n",
    "\n",
    "fig, ax = plt.subplots(figsize=(12, 8))\n",
    "rects1 = ax.bar(x - width/2, yes_fear_bar, width, label=\"Cites Fearing Failure\")\n",
    "rects2 = ax.bar(x + width/2, no_fear_bar, width, label=\"Does Cite Fearing Failure\")\n",
    "\n",
    "# Add some text for labels, title and custom x-axis tick labels, etc.\n",
    "ax.set_ylabel('Number of People', fontsize=16)\n",
    "ax.set_xlabel('Sees Opportunity vs Does Not', fontsize=16)\n",
    "ax.set_title('Fear of Failure by Opportunity vs No Opportunity Globally', fontsize=18)\n",
    "ax.set_xticks(x)\n",
    "ax.set_xticklabels(labels)\n",
    "ax.legend(fontsize=14)\n",
    "\n",
    "plt.savefig('img/fisher_hist.png')"
   ]
  },
  {
   "cell_type": "code",
   "execution_count": 40,
   "metadata": {},
   "outputs": [
    {
     "data": {
      "image/png": "[encoded data removed]",
      "text/plain": [
       "<Figure size 1080x576 with 1 Axes>"
      ]
     },
     "metadata": {},
     "output_type": "display_data"
    }
   ],
   "source": [
    "# calculate and plot a bayes A/B test comparing two groups (one that sees opportunity and one that doesn't) in if they cite fear as the reason that prevents them from starting a business\n",
    "probs = np.linspace(0, 1, 1000)\n",
    "\n",
    "# people who do not see opportunities around them - % of people who have a fear of failure\n",
    "no_opport_dist = stats.beta(a=1+41192, b=1+51434) #success = Opport: 0, Fear: 1 failure = Opport: 0, Fear: 0\n",
    "\n",
    "# people who do see opportunity around them - % of people who have a fear of failure\n",
    "yes_opport_dist = stats.beta(a=1+22869, b=1+41437)\n",
    "#success = Opport: 1, Fear: 1 failure = Opport: 1, Fear: 0\n",
    "\n",
    "# fear of opport = yes\n",
    "\n",
    "densities_yes_opport = yes_opport_dist.pdf(probs)\n",
    "densities_no_opport = no_opport_dist.pdf(probs)\n",
    "fig, ax = plt.subplots(figsize=(15, 8))\n",
    "ax.plot(probs, densities_yes_opport, color='grey', label='Sees opportunity to start a business')\n",
    "ax.plot(probs, densities_no_opport, color='blue', label='Does not see opportunity to start a business')\n",
    "#ax.fill_between(probs, densities, color='lightseagreen', alpha=.8)\n",
    "ax.set_title(f'Probability (Distribution) of Fear of Failure Globally', fontsize=20)\n",
    "ax.set_xlabel('Probability Fear of Failure ', fontsize=15)\n",
    "ax.set_ylabel('Probability Density', fontsize=15);\n",
    "\n",
    "ax.legend(loc=\"upper right\")\n",
    "\n",
    "plt.savefig('img/Bayes_AB_prob.png')"
   ]
  },
  {
   "cell_type": "code",
   "execution_count": 34,
   "metadata": {},
   "outputs": [
    {
     "data": {
      "text/html": [
       "<div>\n",
       "<style scoped>\n",
       "    .dataframe tbody tr th:only-of-type {\n",
       "        vertical-align: middle;\n",
       "    }\n",
       "\n",
       "    .dataframe tbody tr th {\n",
       "        vertical-align: top;\n",
       "    }\n",
       "\n",
       "    .dataframe thead th {\n",
       "        text-align: right;\n",
       "    }\n",
       "</style>\n",
       "<table border=\"1\" class=\"dataframe\">\n",
       "  <thead>\n",
       "    <tr style=\"text-align: right;\">\n",
       "      <th></th>\n",
       "      <th>ctryalp</th>\n",
       "      <th>opport</th>\n",
       "      <th>fearfail</th>\n",
       "      <th>gender</th>\n",
       "      <th>age</th>\n",
       "      <th>UNEDUC</th>\n",
       "      <th>knowent</th>\n",
       "      <th>suskill</th>\n",
       "      <th>GEMHHINC</th>\n",
       "    </tr>\n",
       "  </thead>\n",
       "  <tbody>\n",
       "    <tr>\n",
       "      <th>0</th>\n",
       "      <td>US</td>\n",
       "      <td>0.0</td>\n",
       "      <td>1.0</td>\n",
       "      <td>2.0</td>\n",
       "      <td>63.0</td>\n",
       "      <td>3.0</td>\n",
       "      <td>0.0</td>\n",
       "      <td>1.0</td>\n",
       "      <td>33.0</td>\n",
       "    </tr>\n",
       "    <tr>\n",
       "      <th>1</th>\n",
       "      <td>US</td>\n",
       "      <td>0.0</td>\n",
       "      <td>1.0</td>\n",
       "      <td>1.0</td>\n",
       "      <td>52.0</td>\n",
       "      <td>4.0</td>\n",
       "      <td>0.0</td>\n",
       "      <td>1.0</td>\n",
       "      <td>68100.0</td>\n",
       "    </tr>\n",
       "    <tr>\n",
       "      <th>2</th>\n",
       "      <td>US</td>\n",
       "      <td>1.0</td>\n",
       "      <td>0.0</td>\n",
       "      <td>2.0</td>\n",
       "      <td>64.0</td>\n",
       "      <td>5.0</td>\n",
       "      <td>0.0</td>\n",
       "      <td>0.0</td>\n",
       "      <td>3467.0</td>\n",
       "    </tr>\n",
       "    <tr>\n",
       "      <th>3</th>\n",
       "      <td>US</td>\n",
       "      <td>0.0</td>\n",
       "      <td>0.0</td>\n",
       "      <td>2.0</td>\n",
       "      <td>70.0</td>\n",
       "      <td>4.0</td>\n",
       "      <td>0.0</td>\n",
       "      <td>0.0</td>\n",
       "      <td>3467.0</td>\n",
       "    </tr>\n",
       "    <tr>\n",
       "      <th>5</th>\n",
       "      <td>US</td>\n",
       "      <td>0.0</td>\n",
       "      <td>1.0</td>\n",
       "      <td>1.0</td>\n",
       "      <td>57.0</td>\n",
       "      <td>5.0</td>\n",
       "      <td>0.0</td>\n",
       "      <td>1.0</td>\n",
       "      <td>33.0</td>\n",
       "    </tr>\n",
       "  </tbody>\n",
       "</table>\n",
       "</div>"
      ],
      "text/plain": [
       "  ctryalp  opport  fearfail  gender   age  UNEDUC  knowent  suskill  GEMHHINC\n",
       "0      US     0.0       1.0     2.0  63.0     3.0      0.0      1.0      33.0\n",
       "1      US     0.0       1.0     1.0  52.0     4.0      0.0      1.0   68100.0\n",
       "2      US     1.0       0.0     2.0  64.0     5.0      0.0      0.0    3467.0\n",
       "3      US     0.0       0.0     2.0  70.0     4.0      0.0      0.0    3467.0\n",
       "5      US     0.0       1.0     1.0  57.0     5.0      0.0      1.0      33.0"
      ]
     },
     "execution_count": 34,
     "metadata": {},
     "output_type": "execute_result"
    }
   ],
   "source": [
    "df_FFPO.head()"
   ]
  },
  {
   "cell_type": "code",
   "execution_count": null,
   "metadata": {},
   "outputs": [],
   "source": []
  },
  {
   "cell_type": "code",
   "execution_count": 42,
   "metadata": {},
   "outputs": [
    {
     "data": {
      "image/png": "[encoded data removed]",
      "text/plain": [
       "<Figure size 1080x720 with 1 Axes>"
      ]
     },
     "metadata": {},
     "output_type": "display_data"
    }
   ],
   "source": [
    "# create a histogram for fear of failure vs education level\n",
    "\n",
    "labels = [0, 1, 2, 3, 4, 5, 6]\n",
    "\n",
    "yes_fear_bar = df_FFPO[df_FFPO['fearfail'] == 1.0]['UNEDUC'].value_counts()\n",
    "no_fear_bar = df_FFPO[df_FFPO['fearfail'] == 0.0]['UNEDUC'].value_counts()\n",
    "yes_fear_bar\n",
    "\n",
    "x = np.arange(len(labels))\n",
    "\n",
    "width = 0.35\n",
    "\n",
    "fig, ax = plt.subplots(figsize=(15,10))\n",
    "rects1 = ax.bar(x - width/2, yes_fear_bar, width, label=\"Cites fear of failure\")\n",
    "rects2 = ax.bar(x + width/2, no_fear_bar, width, label=\"Does not cite fear of failure\")\n",
    "\n",
    "# Add some text for labels, title and custom x-axis tick labels, etc.\n",
    "ax.set_ylabel('Number of People', fontsize=16)\n",
    "ax.set_xlabel('Education Level', fontsize=16)\n",
    "ax.set_title('Fear of Failure by Education Level', fontsize=20)\n",
    "ax.set_xticks(x)\n",
    "ax.set_xticklabels(labels)\n",
    "ax.legend(fontsize=14)\n",
    "\n",
    "plt.savefig('img/Fear_education.png')\n"
   ]
  },
  {
   "cell_type": "code",
   "execution_count": null,
   "metadata": {},
   "outputs": [],
   "source": []
  },
  {
   "cell_type": "code",
   "execution_count": null,
   "metadata": {},
   "outputs": [],
   "source": []
  }
 ],
 "metadata": {
  "kernelspec": {
   "display_name": "Python 3",
   "language": "python",
   "name": "python3"
  },
  "language_info": {
   "codemirror_mode": {
    "name": "ipython",
    "version": 3
   },
   "file_extension": ".py",
   "mimetype": "text/x-python",
   "name": "python",
   "nbconvert_exporter": "python",
   "pygments_lexer": "ipython3",
   "version": "3.7.9"
  }
 },
 "nbformat": 4,
 "nbformat_minor": 4
}
